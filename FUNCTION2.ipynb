{
  "nbformat": 4,
  "nbformat_minor": 0,
  "metadata": {
    "colab": {
      "provenance": []
    },
    "kernelspec": {
      "name": "python3",
      "display_name": "Python 3"
    },
    "language_info": {
      "name": "python"
    }
  },
  "cells": [
    {
      "cell_type": "markdown",
      "source": [
        "#Theory question"
      ],
      "metadata": {
        "id": "3BgZXmbVRVcm"
      }
    },
    {
      "cell_type": "markdown",
      "source": [
        "#question1\n",
        "#>>what is the difference between a funtion and a method in python?\n",
        "#>>Method is called by its name, but it is associated to an object (dependent).A method definition always includes 'self' as its first parameter.while funtion is block of code that is also called by its name. (independent)he function can have different parameters or may not have any at all. If any data (parameters) are passed, they are passed explicitly.\n"
      ],
      "metadata": {
        "id": "5GVMbibLRum8"
      }
    },
    {
      "cell_type": "markdown",
      "source": [
        "#question2\n",
        "#>>explain the concept of funtion arguments and parameters in python.\n",
        "#>>Parameters are variables defined in a function declaration. This act as placeholders for the values (arguments) that will be passed to the function.\n",
        "\n",
        "#Arguments are the actual values that you pass to the function when you call it. These values replace the parameters defined in the function."
      ],
      "metadata": {
        "id": "BbSrrTE1S4fF"
      }
    },
    {
      "cell_type": "markdown",
      "source": [
        "#question3\n",
        "#>>what are the different ways to define and call a funtion in python?\n",
        "#>>definition: Define functions inside a class using self for instance methods.\n",
        "#Call: Use an instance of the class."
      ],
      "metadata": {
        "id": "Wjymf5GrT3ph"
      }
    },
    {
      "cell_type": "markdown",
      "source": [
        "#question4\n",
        "#>>What is the purpose of the 'return'statement in a python?\n",
        "#>>The Python return statement is a special statement that you can use inside a function or method to send the function’s result back to the caller."
      ],
      "metadata": {
        "id": "svwIYgd1Y_FU"
      }
    },
    {
      "cell_type": "markdown",
      "source": [
        "#question5\n",
        "#>>what are iterators in python and how do they differ fron iterables?\n",
        "#>>An iterable is like a collection of items (e.g., a list or string) that you can loop through.while An iterator is the mechanism that actually performs the iteration, fetching one item at a time."
      ],
      "metadata": {
        "id": "CLlh--mGUjEJ"
      }
    },
    {
      "cell_type": "markdown",
      "source": [
        "#question6\n",
        "#>>explain the concept of generators in python and how they are defined.\n",
        "#>>generators in Python are a special type of iterable, like lists or tuples, but they generate values on the fly and do not store them in memory. This makes them highly memory-efficient, especially when working with large datasets or infinite sequences."
      ],
      "metadata": {
        "id": "Dz9dAruKYr01"
      }
    },
    {
      "cell_type": "markdown",
      "source": [
        "#question7\n",
        "#>>what are the advantages of using generators over regular funtions?\n",
        "#>>Memory Consumption: Generators utilize a fraction of the memory compared to standard methods.\n",
        "#Execution Time: When dealing with extensive data processing, a generator can reduce wait time since it produces results on-the-fly.\n",
        "#State Management: Generators maintain the state of the last execution point, allowing for continuous iteration without requiring reinitialization."
      ],
      "metadata": {
        "id": "rVFYmdbiazun"
      }
    },
    {
      "cell_type": "markdown",
      "source": [
        "Q8.what is a lambda function in python and when is it typically used?\n",
        ">>Lambda Functions are anonymous functions means that the function is without a name. As we already know the def keyword is used to define a normal function in Python. Similarly, the lambda keyword is used to define an anonymous function in Python.\n",
        "#example:-"
      ],
      "metadata": {
        "id": "fkV7TSn3V-2p"
      }
    },
    {
      "cell_type": "code",
      "source": [
        "#example\n",
        "s1 = 'raj chourasia'\n",
        "\n",
        "s2 = lambda func: func.upper()\n",
        "print(s2(s1))"
      ],
      "metadata": {
        "colab": {
          "base_uri": "https://localhost:8080/"
        },
        "id": "EcXcGykXXmz7",
        "outputId": "cf01516f-dbdd-460e-e8f2-7075c227f319"
      },
      "execution_count": 36,
      "outputs": [
        {
          "output_type": "stream",
          "name": "stdout",
          "text": [
            "RAJ CHOURASIA\n"
          ]
        }
      ]
    },
    {
      "cell_type": "markdown",
      "source": [
        "Q9.Explain the purpose and usage of the 'map()' functions in python.\n",
        ">>The map() function in Python applies a given function to each item of an iterable (like a list or tuple) and returns a map object (an iterator) containing the results. It offers a concise way to perform operations on sequences without explicit loops.\n",
        "ex= map(function, iterable, ...)"
      ],
      "metadata": {
        "id": "coWMVsmKX29N"
      }
    },
    {
      "cell_type": "markdown",
      "source": [
        "Q10.what is the difference between 'map()','reduce()',and'filter()'funtions in python?\n",
        ">>The map () function returns a map object(which is an iterator) of the results after applying the given function to each item of a given iterable (list, tuple, etc.).\n",
        "\n",
        "The reduce function is used to apply a particular function passed in its argument to all of the list elements mentioned in the sequence passed along.This function is defined in “functools” module.\n",
        "\n",
        "The filter() method filters the given sequence with the help of a function that tests each element in thuence to be true or not.\n"
      ],
      "metadata": {
        "id": "D2GJx0VyYsID"
      }
    },
    {
      "cell_type": "markdown",
      "source": [
        "Q10.using pen & paper write the internal mechanism for sum operation using reduce funtionon this given list:[47,11,42,13];\n",
        "\n",
        " 1. Initialization:\n",
        "The reduce function starts with the first two elements of the list (47 and 11).\n",
        "2. Iteration 1:\n",
        "The summation function adds these two numbers: 47 + 11 = 58. The result (58) becomes the accumulator, which will be used in the next iteration.\n",
        "3. Iteration 2:\n",
        "The accumulator (58) is combined with the next element in the list (42): 58 + 42 = 100. The accumulator is updated to 100.\n",
        "4. Iteration 3:\n",
        "The accumulator (100) is combined with the next element (13): 100 + 13 = 113. The accumulator is updated to 113.\n",
        "5. Final Result:113"
      ],
      "metadata": {
        "id": "scSB3pQpaMH1"
      }
    },
    {
      "cell_type": "code",
      "source": [
        "#Q1.write a python function that takes a list of numbers as input and return the sum of all even numbers in the list\n",
        "def sum_even_numbers(numbers):\n",
        "    sum = 0\n",
        "    for num in numbers:\n",
        "      if num % 2 ==0:\n",
        "        sum += num\n",
        "    return sum\n",
        "numbers = [1,2,3,4,5,6,7,8,9,10,12,14,16]\n",
        "result = sum_even_numbers(numbers)\n",
        "print(\"Sum of even numbers:\",result)"
      ],
      "metadata": {
        "id": "lreKo_ngc8tb",
        "colab": {
          "base_uri": "https://localhost:8080/"
        },
        "outputId": "3612f673-2d30-4eb5-9575-e7455afd1178"
      },
      "execution_count": 37,
      "outputs": [
        {
          "output_type": "stream",
          "name": "stdout",
          "text": [
            "Sum of even numbers: 72\n"
          ]
        }
      ]
    },
    {
      "cell_type": "code",
      "source": [
        "#q2.create a python funtion that accepts a string and returns the reverse of that string.\n",
        "def reverse(str):\n",
        "  return str[::-1]\n",
        "reverse(\"raj chourasia\")"
      ],
      "metadata": {
        "colab": {
          "base_uri": "https://localhost:8080/",
          "height": 36
        },
        "id": "I_CGhnTgegLT",
        "outputId": "56138866-03af-4997-c6fa-fdbcab911ff1"
      },
      "execution_count": 38,
      "outputs": [
        {
          "output_type": "execute_result",
          "data": {
            "text/plain": [
              "'aisaruohc jar'"
            ],
            "application/vnd.google.colaboratory.intrinsic+json": {
              "type": "string"
            }
          },
          "metadata": {},
          "execution_count": 38
        }
      ]
    },
    {
      "cell_type": "code",
      "source": [
        "#Q3.Implement a python function that takes a list of integers and returns a new list containing square of each numbers\n",
        "nums = [2,3,4,5,6]\n",
        "squared_numbers = list(map(lambda x: x**2, nums))\n",
        "print(squared_numbers)"
      ],
      "metadata": {
        "colab": {
          "base_uri": "https://localhost:8080/"
        },
        "id": "USG8tWb4jq3U",
        "outputId": "88896828-fef3-45ac-e425-ca4a24187c31"
      },
      "execution_count": 39,
      "outputs": [
        {
          "output_type": "stream",
          "name": "stdout",
          "text": [
            "[4, 9, 16, 25, 36]\n"
          ]
        }
      ]
    },
    {
      "cell_type": "code",
      "source": [
        "#Q4.Write a python function that checks if a given numbers is a prime or not from 1 to 200\n",
        "def get_prime200():\n",
        "  for i in range(2,200+1):\n",
        "    for j in range(2,i):\n",
        "      if i%j==0:\n",
        "        break\n",
        "    else:\n",
        "      print(f\"the prime num is\",i)\n",
        "get_prime200()\n",
        "\n"
      ],
      "metadata": {
        "colab": {
          "base_uri": "https://localhost:8080/"
        },
        "id": "ND6CqYJKl7U2",
        "outputId": "d185c494-d983-4634-a171-531d10a48d23"
      },
      "execution_count": 40,
      "outputs": [
        {
          "output_type": "stream",
          "name": "stdout",
          "text": [
            "the prime num is 2\n",
            "the prime num is 3\n",
            "the prime num is 5\n",
            "the prime num is 7\n",
            "the prime num is 11\n",
            "the prime num is 13\n",
            "the prime num is 17\n",
            "the prime num is 19\n",
            "the prime num is 23\n",
            "the prime num is 29\n",
            "the prime num is 31\n",
            "the prime num is 37\n",
            "the prime num is 41\n",
            "the prime num is 43\n",
            "the prime num is 47\n",
            "the prime num is 53\n",
            "the prime num is 59\n",
            "the prime num is 61\n",
            "the prime num is 67\n",
            "the prime num is 71\n",
            "the prime num is 73\n",
            "the prime num is 79\n",
            "the prime num is 83\n",
            "the prime num is 89\n",
            "the prime num is 97\n",
            "the prime num is 101\n",
            "the prime num is 103\n",
            "the prime num is 107\n",
            "the prime num is 109\n",
            "the prime num is 113\n",
            "the prime num is 127\n",
            "the prime num is 131\n",
            "the prime num is 137\n",
            "the prime num is 139\n",
            "the prime num is 149\n",
            "the prime num is 151\n",
            "the prime num is 157\n",
            "the prime num is 163\n",
            "the prime num is 167\n",
            "the prime num is 173\n",
            "the prime num is 179\n",
            "the prime num is 181\n",
            "the prime num is 191\n",
            "the prime num is 193\n",
            "the prime num is 197\n",
            "the prime num is 199\n"
          ]
        }
      ]
    },
    {
      "cell_type": "code",
      "source": [
        "#Q5.create an iterater class in python that generates the fibonacci sequence upto specified no of terms\n",
        "def fibonacci_sequence(n):\n",
        "    if n<= 1:\n",
        "      return n\n",
        "    else:\n",
        "      return fibonacci_sequence(n-1) + fibonacci_sequence(n-2)\n",
        "print(fibonacci_sequence(8))\n",
        "\n"
      ],
      "metadata": {
        "colab": {
          "base_uri": "https://localhost:8080/"
        },
        "id": "yVpo682unqCf",
        "outputId": "76d1242c-7b69-495a-ad96-533e76386713"
      },
      "execution_count": null,
      "outputs": [
        {
          "output_type": "stream",
          "name": "stdout",
          "text": [
            "21\n"
          ]
        }
      ]
    },
    {
      "cell_type": "code",
      "source": [
        "#Q6.WRITE A GENERATOR FUNCTION IN PYTHON THAT YELDS THE POWERS OF 2 UPTO A GIVEN EXPONENT\n",
        "def power_of_two_generator(exponent):\n",
        "    if exponent < 0:\n",
        "        raise ValueError(\"Exponent must be a non-negative integer.\")\n",
        "    for i in range(exponent + 1):\n",
        "        yield 2**i\n",
        "\n",
        "for power in power_of_two_generator(5):\n",
        "    print(power)"
      ],
      "metadata": {
        "colab": {
          "base_uri": "https://localhost:8080/"
        },
        "id": "8u4dLXu8uEvA",
        "outputId": "b478053a-aaff-4386-cc69-4c592c66b950"
      },
      "execution_count": null,
      "outputs": [
        {
          "output_type": "stream",
          "name": "stdout",
          "text": [
            "1\n",
            "2\n",
            "4\n",
            "8\n",
            "16\n",
            "32\n"
          ]
        }
      ]
    },
    {
      "cell_type": "code",
      "source": [
        " #Q7.implement a generator function that reads a file line by line and yields each line as a string.\n",
        "def read_file_line_by_line(file_path):\n",
        "    try:\n",
        "        with open(file_path, 'r') as file:\n",
        "            for line in file:\n",
        "                yield line.strip()\n",
        "    except FileNotFoundError:\n",
        "        print(f\"Error: File not found at {file_path}\")\n",
        "    except Exception as e:\n",
        "        print(f\"An error occurred: {e}\")\n",
        "\n",
        "if __name__ == \"__main__\":\n",
        "    with open(\"sample.txt\", \"w\") as f:\n",
        "        f.write(\"This is line 1.\\n\")\n",
        "        f.write(\"This is line 2.\\n\")\n",
        "        f.write(\"A third line.\\n\")\n",
        "    for line in read_file_line_by_line(\"sample.txt\"):\n",
        "        print(line)\n",
        "\n",
        "    print(\"\\nAttempting to read a non-existent file:\")\n",
        "    for line in read_file_line_by_line(\"non_existent_file.txt\"):\n",
        "        print(line)\n",
        "\n"
      ],
      "metadata": {
        "colab": {
          "base_uri": "https://localhost:8080/"
        },
        "id": "LjB8i7h56bxF",
        "outputId": "6518b886-4356-4d06-cc80-b28f641645bf"
      },
      "execution_count": 48,
      "outputs": [
        {
          "output_type": "stream",
          "name": "stdout",
          "text": [
            "This is line 1.\n",
            "This is line 2.\n",
            "A third line.\n",
            "\n",
            "Attempting to read a non-existent file:\n",
            "Error: File not found at non_existent_file.txt\n"
          ]
        }
      ]
    },
    {
      "cell_type": "code",
      "source": [
        "#Q8.use a lambda function in python to short a list of tuples based on the second element of each tuple\n",
        "tuple_list=[(1,4),(3,2),(2,8),(4,3)]\n",
        "shorted_list=sorted(tuple_list,key=lambda i:i[1])\n",
        "print(shorted_list)\n"
      ],
      "metadata": {
        "colab": {
          "base_uri": "https://localhost:8080/"
        },
        "id": "RIJKWlktyfsa",
        "outputId": "f04b6888-3b02-4f88-a3e5-a7cccbd4d12e"
      },
      "execution_count": null,
      "outputs": [
        {
          "output_type": "stream",
          "name": "stdout",
          "text": [
            "[(3, 2), (4, 3), (1, 4), (2, 8)]\n"
          ]
        }
      ]
    },
    {
      "cell_type": "code",
      "source": [
        "#Q9.write a pyhton program that uses 'map()' to convert a list of temperature from celsius to fahrenheit.\n",
        "temp_in_c=[27,30,35,40,70]\n",
        "temp_in_f=list(map(lambda i:(i*9/5)+32,temp_in_c))\n",
        "print(temp_in_f)"
      ],
      "metadata": {
        "colab": {
          "base_uri": "https://localhost:8080/"
        },
        "id": "rKxvtz7czyR_",
        "outputId": "97fd88cc-83f8-41c2-b977-86906ad77fea"
      },
      "execution_count": null,
      "outputs": [
        {
          "output_type": "stream",
          "name": "stdout",
          "text": [
            "[80.6, 86.0, 95.0, 104.0, 158.0]\n"
          ]
        }
      ]
    },
    {
      "cell_type": "code",
      "source": [
        "#Q10.Create a python program that uses'filter()'to remove all the vowels from a given sring\n",
        "a=list(\"madhuri\")\n",
        "def vowel(x):\n",
        "    v=('a','e','i','o','u')\n",
        "    return x in v\n",
        "\n",
        "b=list(filter(vowel,a))\n",
        "print(\"Vowels : \",b)\n",
        "print(\"No of Vowels : \",len(b))"
      ],
      "metadata": {
        "colab": {
          "base_uri": "https://localhost:8080/"
        },
        "id": "IkgQouBh8i6G",
        "outputId": "14077dce-ffc9-4918-c2cf-641ca09d0a9f"
      },
      "execution_count": 21,
      "outputs": [
        {
          "output_type": "stream",
          "name": "stdout",
          "text": [
            "Vowels :  ['a', 'u', 'i']\n",
            "No of Vowels :  3\n"
          ]
        }
      ]
    },
    {
      "cell_type": "code",
      "source": [
        "#q11\n",
        "orders = [\n",
        "    [\"34587\", \"Learning Python, Mark Lutz\", 4, 40.95],\n",
        "    [\"98762\", \"Programming Python, Mark Lutz\", 5, 56.80],\n",
        "    [\"77226\", \"Head First Python, Paul Barry\", 3, 32.95],\n",
        "    [\"88112\", \"Python Cookbook, David Beazley\", 3, 24.99]\n",
        "]\n",
        "\n",
        "result = list(map(lambda x: (x[0], x[2] * x[3] + 10 if x[2] * x[3] < 100 else x[2] * x[3]), orders))\n",
        "\n",
        "print(result)"
      ],
      "metadata": {
        "colab": {
          "base_uri": "https://localhost:8080/"
        },
        "id": "BDw83JOZyHii",
        "outputId": "af18f1cd-027c-4b63-e3d3-3e0856a0e66d"
      },
      "execution_count": 35,
      "outputs": [
        {
          "output_type": "stream",
          "name": "stdout",
          "text": [
            "[('34587', 163.8), ('98762', 284.0), ('77226', 108.85000000000001), ('88112', 84.97)]\n"
          ]
        }
      ]
    },
    {
      "cell_type": "code",
      "source": [],
      "metadata": {
        "id": "NQSIyKDn59sj"
      },
      "execution_count": null,
      "outputs": []
    }
  ]
}